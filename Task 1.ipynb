{
 "cells": [
  {
   "cell_type": "markdown",
   "metadata": {},
   "source": [
    "# Engineering a Data Set\n",
    "Create a list of numbers with the following properties: 1) Minimum 100 distinct values, 2) the Mean of all values is 1000 (+/- 0.5), 3) the standard Deviation is 10 (+/- 0.1)"
   ]
  },
  {
   "cell_type": "code",
   "execution_count": 1,
   "metadata": {
    "ExecuteTime": {
     "end_time": "2019-02-04T07:44:36.920467Z",
     "start_time": "2019-02-04T07:44:36.801Z"
    }
   },
   "outputs": [
    {
     "name": "stdout",
     "output_type": "stream",
     "text": [
      "[1] \"Unique numbers: 100\"\n",
      "[1] \"Mean: 1000.32514815613\"\n",
      "[1] \"Standard Deviation: 10.4135696156503\"\n"
     ]
    }
   ],
   "source": [
    "set.seed(42)\n",
    "numbers = rnorm(100, mean = 1000, sd = 10)\n",
    "print(paste(\"Unique numbers:\", length(unique(numbers))))\n",
    "print(paste(\"Mean:\", mean(numbers)))\n",
    "print(paste(\"Standard Deviation:\", sd(numbers))) # sd = 10 +/- 0.1 nicht erfüllt"
   ]
  },
  {
   "cell_type": "code",
   "execution_count": 2,
   "metadata": {
    "ExecuteTime": {
     "end_time": "2019-02-04T07:44:36.947151Z",
     "start_time": "2019-02-04T07:44:36.804Z"
    }
   },
   "outputs": [
    {
     "name": "stdout",
     "output_type": "stream",
     "text": [
      "[1] \"Unique numbers: 1000\"\n",
      "[1] \"Mean: 999.741755733474\"\n",
      "[1] \"Standard Deviation: 10.0252123682996\"\n"
     ]
    }
   ],
   "source": [
    "set.seed(42)\n",
    "# bei größerer Stichprobe nähert sich mean und sd weiter dem tatsächlichen Wert an\n",
    "numbers = rnorm(1000, mean = 1000, sd = 10)\n",
    "print(paste(\"Unique numbers:\", length(unique(numbers))))\n",
    "print(paste(\"Mean:\", mean(numbers)))\n",
    "print(paste(\"Standard Deviation:\", sd(numbers)))"
   ]
  },
  {
   "cell_type": "code",
   "execution_count": null,
   "metadata": {},
   "outputs": [],
   "source": []
  }
 ],
 "metadata": {
  "kernelspec": {
   "display_name": "R",
   "language": "R",
   "name": "ir"
  },
  "language_info": {
   "codemirror_mode": "r",
   "file_extension": ".r",
   "mimetype": "text/x-r-source",
   "name": "R",
   "pygments_lexer": "r",
   "version": "3.5.1"
  },
  "toc": {
   "base_numbering": 1,
   "nav_menu": {},
   "number_sections": true,
   "sideBar": true,
   "skip_h1_title": false,
   "title_cell": "Table of Contents",
   "title_sidebar": "Contents",
   "toc_cell": false,
   "toc_position": {},
   "toc_section_display": true,
   "toc_window_display": false
  },
  "varInspector": {
   "cols": {
    "lenName": 16,
    "lenType": 16,
    "lenVar": 40
   },
   "kernels_config": {
    "python": {
     "delete_cmd_postfix": "",
     "delete_cmd_prefix": "del ",
     "library": "var_list.py",
     "varRefreshCmd": "print(var_dic_list())"
    },
    "r": {
     "delete_cmd_postfix": ") ",
     "delete_cmd_prefix": "rm(",
     "library": "var_list.r",
     "varRefreshCmd": "cat(var_dic_list()) "
    }
   },
   "types_to_exclude": [
    "module",
    "function",
    "builtin_function_or_method",
    "instance",
    "_Feature"
   ],
   "window_display": false
  }
 },
 "nbformat": 4,
 "nbformat_minor": 2
}
